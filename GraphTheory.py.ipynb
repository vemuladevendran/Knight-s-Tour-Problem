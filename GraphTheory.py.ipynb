{
 "cells": [
  {
   "cell_type": "markdown",
   "metadata": {},
   "source": [
    "# Knight's Tour Problem using Graph Theory\n",
    "\n",
    "## Graph Class\n",
    "\n",
    "The `Graph` class represents the chessboard as a graph, where each cell is a node, and legal moves between cells are edges.\n",
    "\n",
    "### Methods:\n",
    "\n",
    "- `__init__(self, N)`: Initializes a graph representing the chessboard of size `N x N`. Each cell in the chessboard is represented as a node in the graph, and legal moves between cells are stored as edges.\n",
    "- `get_valid_moves(self, x, y)`: Given the coordinates `(x, y)` of a cell, returns a list of valid moves (neighbors) from that cell.\n"
   ]
  },
  {
   "cell_type": "code",
   "execution_count": 4,
   "metadata": {},
   "outputs": [],
   "source": [
    "class Graph:\n",
    "    def __init__(self, N):\n",
    "        self.N = N\n",
    "        self.graph = {i * N + j: self.get_valid_moves(i, j) for i in range(N) for j in range(N)}\n",
    "\n",
    "    def get_valid_moves(self, x, y):\n",
    "        moves = []\n",
    "        for dx, dy in [(2, 1), (1, 2), (-1, 2), (-2, 1),\n",
    "                       (-2, -1), (-1, -2), (1, -2), (2, -1)]:\n",
    "            new_x, new_y = x + dx, y + dy\n",
    "            if 0 <= new_x < self.N and 0 <= new_y < self.N:\n",
    "                moves.append(new_x * self.N + new_y)\n",
    "        return moves"
   ]
  },
  {
   "cell_type": "markdown",
   "metadata": {},
   "source": [
    "## Knights Tour Function\n",
    "\n",
    "The `knights_tour(N)` function performs a depth-first search (DFS) traversal starting from the top-left corner of the chessboard to find a Knight's Tour.\n",
    "\n",
    "### Methods:\n",
    "\n",
    "- `dfs(node)`: Performs a depth-first search (DFS) traversal on the graph. Recursively explores all valid moves (neighbors) from the current node (cell). If a valid tour is found, returns `True`; otherwise, returns `False`.\n"
   ]
  },
  {
   "cell_type": "code",
   "execution_count": 5,
   "metadata": {},
   "outputs": [],
   "source": [
    "def knights_tour(N):\n",
    "    graph = Graph(N)\n",
    "    visited = set()\n",
    "    # Initially set as 0 because it start from top-left corner\n",
    "    start_node = 0  \n",
    "    path = [start_node]\n",
    "    visited.add(start_node)\n",
    "\n",
    "    def dfs(node):\n",
    "        if len(path) == N * N:\n",
    "            return True\n",
    "        for neighbor in graph.graph[node]:\n",
    "            if neighbor not in visited:\n",
    "                path.append(neighbor)\n",
    "                visited.add(neighbor)\n",
    "                if dfs(neighbor):\n",
    "                    return True\n",
    "                path.pop()\n",
    "                visited.remove(neighbor)\n",
    "        return False\n",
    "\n",
    "    if dfs(start_node):\n",
    "        print(\"Knight's Tour:\")\n",
    "        print_board(N, path)\n",
    "        print(\"Total number of moves:\", len(path))\n",
    "    else:\n",
    "        print(\"No solution found.\")"
   ]
  },
  {
   "cell_type": "markdown",
   "metadata": {},
   "source": [
    "## Print Board Function\n",
    "\n",
    "The `print_board(N, path)` function prints the chessboard with the knight's tour path marked.\n",
    "\n",
    "### Methods:\n",
    "\n",
    "- Constructs a 2D board representation filled with dashes (`'-'`) initially.\n",
    "- Marks the cells visited by the knight with sequential numbers representing the order of visitation.\n",
    "- Prints the board with sequential numbers for visited cells and dashes for unvisited cells.\n"
   ]
  },
  {
   "cell_type": "code",
   "execution_count": 6,
   "metadata": {},
   "outputs": [
    {
     "name": "stdout",
     "output_type": "stream",
     "text": [
      "Knight's Tour:\n",
      "1 60 39 34 31 18 9 64\n",
      "38 35 32 61 10 63 30 17\n",
      "59 2 37 40 33 28 19 8\n",
      "36 49 42 27 62 11 16 29\n",
      "43 58 3 50 41 24 7 20\n",
      "48 51 46 55 26 21 12 15\n",
      "57 44 53 4 23 14 25 6\n",
      "52 47 56 45 54 5 22 13\n",
      "Total number of moves: 64\n"
     ]
    }
   ],
   "source": [
    "def print_board(N, path):\n",
    "    board = [['-'] * N for _ in range(N)]\n",
    "    for i, node in enumerate(path):\n",
    "        x, y = divmod(node, N)\n",
    "        board[x][y] = str(i + 1)\n",
    "    for row in board:\n",
    "        print(' '.join(row))\n",
    "\n",
    "if __name__ == \"__main__\":\n",
    "    N = 8  \n",
    "    knights_tour(N)"
   ]
  }
 ],
 "metadata": {
  "kernelspec": {
   "display_name": "Python 3",
   "language": "python",
   "name": "python3"
  },
  "language_info": {
   "codemirror_mode": {
    "name": "ipython",
    "version": 3
   },
   "file_extension": ".py",
   "mimetype": "text/x-python",
   "name": "python",
   "nbconvert_exporter": "python",
   "pygments_lexer": "ipython3",
   "version": "3.11.8"
  }
 },
 "nbformat": 4,
 "nbformat_minor": 2
}
