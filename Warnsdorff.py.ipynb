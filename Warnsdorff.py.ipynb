{
 "cells": [
  {
   "cell_type": "markdown",
   "metadata": {},
   "source": [
    "# Knight's Tour Using Warnsdorff's Algorithm\n",
    "\n",
    "Below is the Python code implementing Warnsdorff's algorithm to find a Knight's Tour on a chessboard.\n",
    "\n",
    "### `is_valid_move(x, y, N, visited):`\n",
    "\n",
    "This function checks whether a move to the specified coordinates `(x, y)` is valid.\n",
    "\n",
    "**Parameters:**\n",
    "- `x`: The x-coordinate of the move.\n",
    "- `y`: The y-coordinate of the move.\n",
    "- `N`: The size of the chessboard.\n",
    "- `visited`: A 2D list indicating which cells have been visited.\n",
    "\n",
    "**Returns:**\n",
    "- `True` if the move is within the board and the cell is not visited, `False` otherwise.\n"
   ]
  },
  {
   "cell_type": "code",
   "execution_count": 1,
   "metadata": {},
   "outputs": [],
   "source": [
    "def is_valid_move(x, y, N, visited):\n",
    "    return 0 <= x < N and 0 <= y < N and not visited[x][y]"
   ]
  },
  {
   "cell_type": "markdown",
   "metadata": {},
   "source": [
    "### `count_valid_moves(x, y, N, visited):`\n",
    "\n",
    "This function counts the number of valid moves from a given position `(x, y)`.\n",
    "\n",
    "**Parameters:**\n",
    "- `x`: The x-coordinate of the position.\n",
    "- `y`: The y-coordinate of the position.\n",
    "- `N`: The size of the chessboard.\n",
    "- `visited`: A 2D list indicating which cells have been visited.\n",
    "\n",
    "**Returns:**\n",
    "- The number of valid moves from the given position."
   ]
  },
  {
   "cell_type": "code",
   "execution_count": 2,
   "metadata": {},
   "outputs": [],
   "source": [
    "def count_valid_moves(x, y, N, visited):\n",
    "    # Count the number of valid moves from a given position.\n",
    "    count = 0\n",
    "    for dx, dy in [(2, 1), (1, 2), (-1, 2), (-2, 1),\n",
    "                   (-2, -1), (-1, -2), (1, -2), (2, -1)]:\n",
    "        new_x, new_y = x + dx, y + dy\n",
    "        if is_valid_move(new_x, new_y, N, visited):\n",
    "            count += 1\n",
    "    return count"
   ]
  },
  {
   "cell_type": "markdown",
   "metadata": {},
   "source": [
    "### `get_next_move(x, y, N, visited):`\n",
    "\n",
    "This function finds the next move with the fewest possible moves from the current position `(x, y)`.\n",
    "\n",
    "**Parameters:**\n",
    "- `x`: The current x-coordinate.\n",
    "- `y`: The current y-coordinate.\n",
    "- `N`: The size of the chessboard.\n",
    "- `visited`: A 2D list indicating which cells have been visited.\n",
    "\n",
    "**Returns:**\n",
    "- The coordinates `(next_x, next_y)` of the next move with the fewest possible moves.\n"
   ]
  },
  {
   "cell_type": "code",
   "execution_count": 3,
   "metadata": {},
   "outputs": [],
   "source": [
    "def get_next_move(x, y, N, visited):\n",
    "    # Gets next move\n",
    "    min_moves = float('inf')\n",
    "    next_x, next_y = -1, -1\n",
    "    for dx, dy in [(2, 1), (1, 2), (-1, 2), (-2, 1),\n",
    "                   (-2, -1), (-1, -2), (1, -2), (2, -1)]:\n",
    "        new_x, new_y = x + dx, y + dy\n",
    "        if is_valid_move(new_x, new_y, N, visited):\n",
    "            moves = count_valid_moves(new_x, new_y, N, visited)\n",
    "            if moves < min_moves:\n",
    "                min_moves = moves\n",
    "                next_x, next_y = new_x, new_y\n",
    "    return next_x, next_y"
   ]
  },
  {
   "cell_type": "markdown",
   "metadata": {},
   "source": [
    "### `print_board(N, path):`\n",
    "\n",
    "This function prints the chessboard matrix with the knight's tour path marked.\n",
    "\n",
    "**Parameters:**\n",
    "- `N`: The size of the chessboard.\n",
    "- `path`: A list of tuples containing the coordinates of the knight's tour path.\n",
    "\n",
    "**Prints:**\n",
    "- The chessboard matrix with the tour path marked."
   ]
  },
  {
   "cell_type": "code",
   "execution_count": 4,
   "metadata": {},
   "outputs": [],
   "source": [
    "def print_board(N, path):\n",
    "# prints chessboard\n",
    "    board = [[0 for _ in range(N)] for _ in range(N)]\n",
    "    move_number = 1\n",
    "    for x, y in path:\n",
    "        board[x][y] = move_number\n",
    "        move_number += 1\n",
    "    \n",
    "    for row in board:\n",
    "        for val in row:\n",
    "            print(f\"{val:02d}\", end=' ')\n",
    "        print()"
   ]
  },
  {
   "cell_type": "markdown",
   "metadata": {},
   "source": [
    "### `knights_tour(N):`\n",
    "\n",
    "This is the main function that finds a Knight's Tour using Warnsdorff's algorithm.\n",
    "\n",
    "**Parameters:**\n",
    "- `N`: The size of the chessboard.\n",
    "\n",
    "**Prints:**\n",
    "- The chessboard matrix with the knight's tour path marked.\n",
    "- The total number of moves made during the tour."
   ]
  },
  {
   "cell_type": "code",
   "execution_count": 5,
   "metadata": {},
   "outputs": [
    {
     "name": "stdout",
     "output_type": "stream",
     "text": [
      "01 34 03 18 49 32 13 16 \n",
      "04 19 56 33 14 17 50 31 \n",
      "57 02 35 48 55 52 15 12 \n",
      "20 05 60 53 36 47 30 51 \n",
      "41 58 37 46 61 54 11 26 \n",
      "06 21 42 59 38 27 64 29 \n",
      "43 40 23 08 45 62 25 10 \n",
      "22 07 44 39 24 09 28 63 \n",
      "Total number of moves: 64\n"
     ]
    }
   ],
   "source": [
    "\n",
    "def knights_tour(N):\n",
    "# Finding problem using warnsdorff algorithm\n",
    "    visited = [[False for _ in range(N)] for _ in range(N)]\n",
    "    x, y = 0, 0\n",
    "    move_number = 0\n",
    "    path = [(x, y)]\n",
    "    visited[x][y] = True\n",
    "    while move_number < N * N - 1:\n",
    "        next_x, next_y = get_next_move(x, y, N, visited)\n",
    "        if next_x == -1 or next_y == -1:\n",
    "            print(\"No solution found!\")\n",
    "            return\n",
    "        x, y = next_x, next_y\n",
    "        path.append((x, y))\n",
    "        visited[x][y] = True\n",
    "        move_number += 1\n",
    "    print_board(N, path)\n",
    "    # Print the total number of moves moved in chessboard at the end\n",
    "    print(\"Total number of moves:\", len(path)) \n",
    "\n",
    "if __name__ == \"__main__\":\n",
    "    # size of the board here it is 8 * 8\n",
    "    N = 8  \n",
    "    knights_tour(N)\n"
   ]
  }
 ],
 "metadata": {
  "kernelspec": {
   "display_name": "Python 3",
   "language": "python",
   "name": "python3"
  },
  "language_info": {
   "codemirror_mode": {
    "name": "ipython",
    "version": 3
   },
   "file_extension": ".py",
   "mimetype": "text/x-python",
   "name": "python",
   "nbconvert_exporter": "python",
   "pygments_lexer": "ipython3",
   "version": "3.11.8"
  }
 },
 "nbformat": 4,
 "nbformat_minor": 2
}
