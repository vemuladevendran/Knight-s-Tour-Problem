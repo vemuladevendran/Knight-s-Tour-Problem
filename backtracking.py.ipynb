{
 "cells": [
  {
   "cell_type": "markdown",
   "metadata": {},
   "source": [
    "# Knight's Tour Problem using backtracking\n",
    "\n",
    "## Initializing Chess Board\n",
    "\n",
    "This function initializes the chessboard with default values. It creates an N x N matrix filled with -1, indicating that no move has been made yet.\n",
    "- **Parameters:**\n",
    "  - `N`: The size of the chessboard.\n",
    "- **Returns:**\n",
    "  - A `2D` list representing the chessboard."
   ]
  },
  {
   "cell_type": "code",
   "execution_count": 7,
   "metadata": {},
   "outputs": [],
   "source": [
    "def initialize_chessboard(N):\n",
    "    return [[-1 for i in range(N)] for j in range(N)]\n"
   ]
  },
  {
   "cell_type": "markdown",
   "metadata": {},
   "source": [
    "### print_board(board):\n",
    "This function prints the chessboard matrix.\n",
    "- **Parameters:**\n",
    "  - `board`: The 2D list representing the chessboard.\n",
    "- **Prints:**\n",
    "  - Prints the chessboard matrix to the console."
   ]
  },
  {
   "cell_type": "code",
   "execution_count": 8,
   "metadata": {},
   "outputs": [],
   "source": [
    "\n",
    "def print_board(board):\n",
    "    # Prints the chessboard matrix.\n",
    "    for row in board:\n",
    "        for val in row:\n",
    "            print(f\"{val:02d}\", end=' ')\n",
    "        print()"
   ]
  },
  {
   "cell_type": "markdown",
   "metadata": {},
   "source": [
    "### solve_knights_tour_chessboard(N):\n",
    "This is the main function that solves the Knight's Tour problem using backtracking.\n",
    "- It initializes the chessboard, defines the possible knight moves, sets the initial position of the knight, and starts the backtracking process.\n",
    "- **Parameters:**\n",
    "  - `N`: The size of the chessboard.\n",
    "- **Prints:**\n",
    "  - If a solution is found, it prints the chessboard matrix with the knight's tour path and the total number of moves.\n",
    "  - If no solution is found, it prints \"Solution does not exist\"."
   ]
  },
  {
   "cell_type": "code",
   "execution_count": 9,
   "metadata": {},
   "outputs": [],
   "source": [
    "def solve_knights_tour_chessboard(N):\n",
    "    board = initialize_chessboard(N)\n",
    "    move_x = [2, 1, -1, -2, -2, -1, 1, 2]\n",
    "    move_y = [1, 2, 2, 1, -1, -2, -2, -1]\n",
    "    board[0][0] = 0\n",
    "    pos = 1\n",
    "    total_moves = [0]\n",
    "    if not solve_knights_tour_chessboard_util(N, board, 0, 0, move_x, move_y, pos, total_moves):\n",
    "        print(\"Solution does not exist\")\n",
    "    else:\n",
    "        print_board(board)\n",
    "        print(\"Total number of moves:\", total_moves[0])"
   ]
  },
  {
   "cell_type": "markdown",
   "metadata": {},
   "source": [
    "### solve_knights_tour_chessboard_util(N, board, current_x, current_y, move_x, move_y, position, total_moves):\n",
    "This is a utility function that implements the backtracking algorithm to find the Knight's Tour.\n",
    "- It recursively explores all possible moves of the knight until a solution is found or all moves have been exhausted.\n",
    "- **Parameters:**\n",
    "  - `N`: The size of the chessboard.\n",
    "  - `board`: The current state of the chessboard.\n",
    "  - `current_x`, `current_y`: The current position of the knight.\n",
    "  - `move_x`, `move_y`: Lists representing the possible moves of the knight.\n",
    "  - `position`: The current step in the tour.\n",
    "  - `total_moves`: A list to store the total number of moves made by the knight.\n",
    "- **Returns:**\n",
    "  - True if a solution is found, False otherwise.\n"
   ]
  },
  {
   "cell_type": "code",
   "execution_count": 10,
   "metadata": {},
   "outputs": [],
   "source": [
    "def solve_knights_tour_chessboard_util(N, board, current_x, current_y, move_x, move_y, position, total_moves):\n",
    "    if position == N**2:\n",
    "        return True\n",
    "    for i in range(8):\n",
    "        new_x = current_x + move_x[i]\n",
    "        new_y = current_y + move_y[i]\n",
    "        if is_safe(new_x, new_y, board):\n",
    "            board[new_x][new_y] = position\n",
    "            total_moves[0] += 1\n",
    "            if solve_knights_tour_chessboard_util(N, board, new_x, new_y, move_x, move_y, position+1, total_moves):\n",
    "                return True\n",
    "            board[new_x][new_y] = -1\n",
    "            total_moves[0] -= 1\n",
    "    return False"
   ]
  },
  {
   "cell_type": "markdown",
   "metadata": {},
   "source": [
    "### is_safe(x, y, board):\n",
    "This function checks if a given position (x, y) on the chessboard is safe to move to.\n",
    "- **Parameters:**\n",
    "  - `x`, `y`: The coordinates of the position to check.\n",
    "  - `board`: The current state of the chessboard.\n",
    "- **Returns:**\n",
    "  - True if the position is safe (within the bounds of the chessboard and not yet visited), False otherwise."
   ]
  },
  {
   "cell_type": "code",
   "execution_count": 11,
   "metadata": {},
   "outputs": [
    {
     "name": "stdout",
     "output_type": "stream",
     "text": [
      "00 59 38 33 30 17 08 63 \n",
      "37 34 31 60 09 62 29 16 \n",
      "58 01 36 39 32 27 18 07 \n",
      "35 48 41 26 61 10 15 28 \n",
      "42 57 02 49 40 23 06 19 \n",
      "47 50 45 54 25 20 11 14 \n",
      "56 43 52 03 22 13 24 05 \n",
      "51 46 55 44 53 04 21 12 \n",
      "Total number of moves: 63\n"
     ]
    }
   ],
   "source": [
    "def is_safe(x, y, board):\n",
    "    # Check if x and y are valid indices for N x N chessboard.\n",
    "    return (0 <= x < len(board)) and (0 <= y < len(board)) and (board[x][y] == -1)\n",
    "\n",
    "if __name__ == \"__main__\":\n",
    "    # N indicates the size of the chessboard 8 * 8\n",
    "    N = 8\n",
    "    solve_knights_tour_chessboard(N)"
   ]
  }
 ],
 "metadata": {
  "kernelspec": {
   "display_name": "Python 3",
   "language": "python",
   "name": "python3"
  },
  "language_info": {
   "codemirror_mode": {
    "name": "ipython",
    "version": 3
   },
   "file_extension": ".py",
   "mimetype": "text/x-python",
   "name": "python",
   "nbconvert_exporter": "python",
   "pygments_lexer": "ipython3",
   "version": "3.11.8"
  }
 },
 "nbformat": 4,
 "nbformat_minor": 2
}
